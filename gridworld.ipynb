{
 "metadata": {
  "language_info": {
   "codemirror_mode": {
    "name": "ipython",
    "version": 3
   },
   "file_extension": ".py",
   "mimetype": "text/x-python",
   "name": "python",
   "nbconvert_exporter": "python",
   "pygments_lexer": "ipython3",
   "version": "3.8.6-final"
  },
  "orig_nbformat": 2,
  "kernelspec": {
   "name": "python3",
   "display_name": "Python 3.8.6 64-bit ('ReLearn': conda)",
   "metadata": {
    "interpreter": {
     "hash": "c26e844c94b8d7b9a11765a07b49efbc0f8e6421562b0e68e0f49cd7a6f323ae"
    }
   }
  }
 },
 "nbformat": 4,
 "nbformat_minor": 2,
 "cells": [
  {
   "cell_type": "code",
   "execution_count": 5,
   "metadata": {},
   "outputs": [],
   "source": [
    "import numpy as np\n",
    "import pandas as pd"
   ]
  },
  {
   "cell_type": "code",
   "execution_count": 149,
   "metadata": {},
   "outputs": [],
   "source": [
    "class GridBoard:\n",
    "    def __init__(self, cols, rows):\n",
    "        self.rows = rows\n",
    "        self.cols = cols\n",
    "        self.rewards = pd.DataFrame(np.zeros((rows, cols)))\n",
    "        self.q_prev = pd.DataFrame([[[0,0,0,0]]*cols]*rows, index=range(rows), columns=range(cols))\n",
    "        self.q_curr = self.q_prev.copy()\n",
    "        self.walls = []\n",
    "        self.show_board = pd.DataFrame('.', index=range(self.rows), columns=range(self.cols))\n",
    "        for w in self.walls:\n",
    "            self.show_board[w[0]][w[1]] = \"X\"\n",
    "    \n",
    "    def assignRewards(self, row, col, reward):\n",
    "        self.rewards[row][col] = reward\n",
    "    \n",
    "    def reset_showboard(self):\n",
    "        self.show_board = pd.DataFrame('.', index=range(self.rows), columns=range(self.cols))\n",
    "        for w in self.walls:\n",
    "            self.show_board[w[0]][w[1]] = \"X\"\n",
    "    \n",
    "    def set_walls(self, walls):\n",
    "        for w in walls:\n",
    "            self.walls.append(w)\n",
    "\n",
    "\n"
   ]
  },
  {
   "cell_type": "code",
   "execution_count": 163,
   "metadata": {},
   "outputs": [],
   "source": [
    "class Player:\n",
    "    def __init__(self, grid):\n",
    "        self.curr_state = [0, 0]\n",
    "        grid.show_board[self.curr_state[0]][self.curr_state[1]] = \"*\"\n",
    "    \n",
    "    def move(self, act):\n",
    "        # determine if a move can occur\n",
    "        # possible values for act: N, S, E, W\n",
    "        if act == 'N':\n",
    "            next_state = [self.curr_state[0], self.curr_state[1]-1]\n",
    "            if self.curr_state[1] != 0 and next_state not in grid.walls: self.curr_state[1] -= 1 \n",
    "        elif act == 'E':\n",
    "            next_state = [self.curr_state[0]+1, self.curr_state[1]]\n",
    "            if self.curr_state[0] < grid.cols and next_state not in grid.walls: self.curr_state[0] += 1 \n",
    "        elif act == 'S':\n",
    "            next_state = [self.curr_state[0], self.curr_state[1]+1]\n",
    "            if self.curr_state[1] < grid.rows and next_state not in grid.walls: self.curr_state[1] += 1 \n",
    "        elif act == 'W':\n",
    "            next_state = [self.curr_state[0]-1, self.curr_state[1]]\n",
    "            if self.curr_state[0] != 0 and next_state not in grid.walls: self.curr_state[0] -= 1 \n",
    "        else:\n",
    "            print(\"Invalid option\")\n",
    "        grid.reset_showboard()\n",
    "        grid.show_board[self.curr_state[0]][self.curr_state[1]] = '*'\n",
    "            \n"
   ]
  },
  {
   "cell_type": "code",
   "execution_count": 165,
   "metadata": {},
   "outputs": [
    {
     "output_type": "stream",
     "name": "stdout",
     "text": [
      "     0    1    2    3    4\n0  0.0  0.0  0.0  0.0  0.0\n1  0.0  0.0  0.0  0.0  0.0\n2  0.0  0.0  0.0  0.0  0.0\n3  0.0  0.0  0.0  0.0  0.0\n4  0.0  0.0  0.0  0.0  0.0\n[[2, 0], [2, 1]]\n     0    1    2    3    4\n0  0.0  0.0  0.0  0.0  0.0\n1  0.0  0.0  0.0  0.0  0.0\n2  0.0  0.0  0.0  0.0  0.0\n3  0.0  0.0  0.0  0.0  0.0\n4  0.0  0.0  0.0  0.0  1.0\n[0, 0]\n   0  1  2  3  4\n0  *  .  X  .  .\n1  .  .  X  .  .\n2  .  .  .  .  .\n3  .  .  .  .  .\n4  .  .  .  .  .\n[1, 0]\n   0  1  2  3  4\n0  .  *  X  .  .\n1  .  .  X  .  .\n2  .  .  .  .  .\n3  .  .  .  .  .\n4  .  .  .  .  .\n[1, 0]\n   0  1  2  3  4\n0  .  *  X  .  .\n1  .  .  X  .  .\n2  .  .  .  .  .\n3  .  .  .  .  .\n4  .  .  .  .  .\n[1, 0]\n   0  1  2  3  4\n0  .  *  X  .  .\n1  .  .  X  .  .\n2  .  .  .  .  .\n3  .  .  .  .  .\n4  .  .  .  .  .\n[1, 0]\n   0  1  2  3  4\n0  .  *  X  .  .\n1  .  .  X  .  .\n2  .  .  .  .  .\n3  .  .  .  .  .\n4  .  .  .  .  .\n[1, 1]\n   0  1  2  3  4\n0  .  .  X  .  .\n1  .  *  X  .  .\n2  .  .  .  .  .\n3  .  .  .  .  .\n4  .  .  .  .  .\n[1, 1]\n   0  1  2  3  4\n0  .  .  X  .  .\n1  .  *  X  .  .\n2  .  .  .  .  .\n3  .  .  .  .  .\n4  .  .  .  .  .\n[1, 2]\n   0  1  2  3  4\n0  .  .  X  .  .\n1  .  .  X  .  .\n2  .  *  .  .  .\n3  .  .  .  .  .\n4  .  .  .  .  .\n[2, 2]\n   0  1  2  3  4\n0  .  .  X  .  .\n1  .  .  X  .  .\n2  .  .  *  .  .\n3  .  .  .  .  .\n4  .  .  .  .  .\n[2, 2]\n   0  1  2  3  4\n0  .  .  X  .  .\n1  .  .  X  .  .\n2  .  .  *  .  .\n3  .  .  .  .  .\n4  .  .  .  .  .\n[3, 2]\n   0  1  2  3  4\n0  .  .  X  .  .\n1  .  .  X  .  .\n2  .  .  .  *  .\n3  .  .  .  .  .\n4  .  .  .  .  .\n"
     ]
    }
   ],
   "source": [
    "grid = GridBoard(5, 5)\n",
    "grid.set_walls([[2, 0], [2, 1]])\n",
    "print(grid.rewards)\n",
    "print(grid.walls)\n",
    "#print(grid.q_prev)\n",
    "#print(grid.q_curr)\n",
    "\n",
    "for w in grid.walls:\n",
    "    grid.show_board[w[0]][w[1]] = \"X\"    \n",
    "\n",
    "grid.assignRewards(4, 4, 1)\n",
    "print(grid.rewards)\n",
    "\n",
    "player = Player(grid)\n",
    "print(player.curr_state)\n",
    "print(grid.show_board)\n",
    "\n",
    "\n",
    "path = ['E', 'E', 'E', 'E', 'S', 'E', 'S', 'E', 'N', 'E']\n",
    "\n",
    "for p in path:\n",
    "    player.move(p)\n",
    "    print(player.curr_state)\n",
    "\n",
    "    print(grid.show_board)"
   ]
  },
  {
   "cell_type": "code",
   "execution_count": null,
   "metadata": {},
   "outputs": [],
   "source": []
  }
 ]
}